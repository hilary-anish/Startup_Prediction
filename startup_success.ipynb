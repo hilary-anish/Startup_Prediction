{
 "cells": [
  {
   "cell_type": "code",
   "execution_count": 1,
   "id": "16d71808",
   "metadata": {},
   "outputs": [],
   "source": [
    "import pandas as pd\n",
    "import numpy as np\n",
    "import seaborn as sns\n",
    "import matplotlib.pyplot as plt\n",
    "\n",
    "%matplotlib inline"
   ]
  },
  {
   "cell_type": "code",
   "execution_count": 2,
   "id": "0fd2e42a",
   "metadata": {},
   "outputs": [],
   "source": [
    "df = pd.read_csv('startup data.csv')"
   ]
  },
  {
   "cell_type": "code",
   "execution_count": 3,
   "id": "375ba7d1",
   "metadata": {},
   "outputs": [
    {
     "data": {
      "text/html": [
       "<div>\n",
       "<style scoped>\n",
       "    .dataframe tbody tr th:only-of-type {\n",
       "        vertical-align: middle;\n",
       "    }\n",
       "\n",
       "    .dataframe tbody tr th {\n",
       "        vertical-align: top;\n",
       "    }\n",
       "\n",
       "    .dataframe thead th {\n",
       "        text-align: right;\n",
       "    }\n",
       "</style>\n",
       "<table border=\"1\" class=\"dataframe\">\n",
       "  <thead>\n",
       "    <tr style=\"text-align: right;\">\n",
       "      <th></th>\n",
       "      <th>Unnamed: 0</th>\n",
       "      <th>state_code</th>\n",
       "      <th>latitude</th>\n",
       "      <th>longitude</th>\n",
       "      <th>zip_code</th>\n",
       "      <th>id</th>\n",
       "      <th>city</th>\n",
       "      <th>Unnamed: 6</th>\n",
       "      <th>name</th>\n",
       "      <th>labels</th>\n",
       "      <th>...</th>\n",
       "      <th>object_id</th>\n",
       "      <th>has_VC</th>\n",
       "      <th>has_angel</th>\n",
       "      <th>has_roundA</th>\n",
       "      <th>has_roundB</th>\n",
       "      <th>has_roundC</th>\n",
       "      <th>has_roundD</th>\n",
       "      <th>avg_participants</th>\n",
       "      <th>is_top500</th>\n",
       "      <th>status</th>\n",
       "    </tr>\n",
       "  </thead>\n",
       "  <tbody>\n",
       "    <tr>\n",
       "      <th>0</th>\n",
       "      <td>1005</td>\n",
       "      <td>CA</td>\n",
       "      <td>42.358880</td>\n",
       "      <td>-71.056820</td>\n",
       "      <td>92101</td>\n",
       "      <td>c:6669</td>\n",
       "      <td>San Diego</td>\n",
       "      <td>NaN</td>\n",
       "      <td>Bandsintown</td>\n",
       "      <td>1</td>\n",
       "      <td>...</td>\n",
       "      <td>c:6669</td>\n",
       "      <td>0</td>\n",
       "      <td>1</td>\n",
       "      <td>0</td>\n",
       "      <td>0</td>\n",
       "      <td>0</td>\n",
       "      <td>0</td>\n",
       "      <td>1.0000</td>\n",
       "      <td>0</td>\n",
       "      <td>acquired</td>\n",
       "    </tr>\n",
       "    <tr>\n",
       "      <th>1</th>\n",
       "      <td>204</td>\n",
       "      <td>CA</td>\n",
       "      <td>37.238916</td>\n",
       "      <td>-121.973718</td>\n",
       "      <td>95032</td>\n",
       "      <td>c:16283</td>\n",
       "      <td>Los Gatos</td>\n",
       "      <td>NaN</td>\n",
       "      <td>TriCipher</td>\n",
       "      <td>1</td>\n",
       "      <td>...</td>\n",
       "      <td>c:16283</td>\n",
       "      <td>1</td>\n",
       "      <td>0</td>\n",
       "      <td>0</td>\n",
       "      <td>1</td>\n",
       "      <td>1</td>\n",
       "      <td>1</td>\n",
       "      <td>4.7500</td>\n",
       "      <td>1</td>\n",
       "      <td>acquired</td>\n",
       "    </tr>\n",
       "    <tr>\n",
       "      <th>2</th>\n",
       "      <td>1001</td>\n",
       "      <td>CA</td>\n",
       "      <td>32.901049</td>\n",
       "      <td>-117.192656</td>\n",
       "      <td>92121</td>\n",
       "      <td>c:65620</td>\n",
       "      <td>San Diego</td>\n",
       "      <td>San Diego CA 92121</td>\n",
       "      <td>Plixi</td>\n",
       "      <td>1</td>\n",
       "      <td>...</td>\n",
       "      <td>c:65620</td>\n",
       "      <td>0</td>\n",
       "      <td>0</td>\n",
       "      <td>1</td>\n",
       "      <td>0</td>\n",
       "      <td>0</td>\n",
       "      <td>0</td>\n",
       "      <td>4.0000</td>\n",
       "      <td>1</td>\n",
       "      <td>acquired</td>\n",
       "    </tr>\n",
       "    <tr>\n",
       "      <th>3</th>\n",
       "      <td>738</td>\n",
       "      <td>CA</td>\n",
       "      <td>37.320309</td>\n",
       "      <td>-122.050040</td>\n",
       "      <td>95014</td>\n",
       "      <td>c:42668</td>\n",
       "      <td>Cupertino</td>\n",
       "      <td>Cupertino CA 95014</td>\n",
       "      <td>Solidcore Systems</td>\n",
       "      <td>1</td>\n",
       "      <td>...</td>\n",
       "      <td>c:42668</td>\n",
       "      <td>0</td>\n",
       "      <td>0</td>\n",
       "      <td>0</td>\n",
       "      <td>1</td>\n",
       "      <td>1</td>\n",
       "      <td>1</td>\n",
       "      <td>3.3333</td>\n",
       "      <td>1</td>\n",
       "      <td>acquired</td>\n",
       "    </tr>\n",
       "    <tr>\n",
       "      <th>4</th>\n",
       "      <td>1002</td>\n",
       "      <td>CA</td>\n",
       "      <td>37.779281</td>\n",
       "      <td>-122.419236</td>\n",
       "      <td>94105</td>\n",
       "      <td>c:65806</td>\n",
       "      <td>San Francisco</td>\n",
       "      <td>San Francisco CA 94105</td>\n",
       "      <td>Inhale Digital</td>\n",
       "      <td>0</td>\n",
       "      <td>...</td>\n",
       "      <td>c:65806</td>\n",
       "      <td>1</td>\n",
       "      <td>1</td>\n",
       "      <td>0</td>\n",
       "      <td>0</td>\n",
       "      <td>0</td>\n",
       "      <td>0</td>\n",
       "      <td>1.0000</td>\n",
       "      <td>1</td>\n",
       "      <td>closed</td>\n",
       "    </tr>\n",
       "  </tbody>\n",
       "</table>\n",
       "<p>5 rows × 49 columns</p>\n",
       "</div>"
      ],
      "text/plain": [
       "   Unnamed: 0 state_code   latitude   longitude zip_code       id  \\\n",
       "0        1005         CA  42.358880  -71.056820    92101   c:6669   \n",
       "1         204         CA  37.238916 -121.973718    95032  c:16283   \n",
       "2        1001         CA  32.901049 -117.192656    92121  c:65620   \n",
       "3         738         CA  37.320309 -122.050040    95014  c:42668   \n",
       "4        1002         CA  37.779281 -122.419236    94105  c:65806   \n",
       "\n",
       "            city              Unnamed: 6               name  labels  ...  \\\n",
       "0      San Diego                     NaN        Bandsintown       1  ...   \n",
       "1      Los Gatos                     NaN          TriCipher       1  ...   \n",
       "2      San Diego      San Diego CA 92121              Plixi       1  ...   \n",
       "3      Cupertino      Cupertino CA 95014  Solidcore Systems       1  ...   \n",
       "4  San Francisco  San Francisco CA 94105     Inhale Digital       0  ...   \n",
       "\n",
       "  object_id has_VC has_angel has_roundA  has_roundB  has_roundC  has_roundD  \\\n",
       "0    c:6669      0         1          0           0           0           0   \n",
       "1   c:16283      1         0          0           1           1           1   \n",
       "2   c:65620      0         0          1           0           0           0   \n",
       "3   c:42668      0         0          0           1           1           1   \n",
       "4   c:65806      1         1          0           0           0           0   \n",
       "\n",
       "   avg_participants  is_top500    status  \n",
       "0            1.0000          0  acquired  \n",
       "1            4.7500          1  acquired  \n",
       "2            4.0000          1  acquired  \n",
       "3            3.3333          1  acquired  \n",
       "4            1.0000          1    closed  \n",
       "\n",
       "[5 rows x 49 columns]"
      ]
     },
     "execution_count": 3,
     "metadata": {},
     "output_type": "execute_result"
    }
   ],
   "source": [
    "df.head()"
   ]
  },
  {
   "cell_type": "code",
   "execution_count": 4,
   "id": "4ef2fd31",
   "metadata": {},
   "outputs": [
    {
     "data": {
      "text/plain": [
       "(923, 49)"
      ]
     },
     "execution_count": 4,
     "metadata": {},
     "output_type": "execute_result"
    }
   ],
   "source": [
    "df.shape"
   ]
  },
  {
   "cell_type": "code",
   "execution_count": 5,
   "id": "00316ac4",
   "metadata": {},
   "outputs": [
    {
     "data": {
      "text/plain": [
       "Index(['Unnamed: 0', 'state_code', 'latitude', 'longitude', 'zip_code', 'id',\n",
       "       'city', 'Unnamed: 6', 'name', 'labels', 'founded_at', 'closed_at',\n",
       "       'first_funding_at', 'last_funding_at', 'age_first_funding_year',\n",
       "       'age_last_funding_year', 'age_first_milestone_year',\n",
       "       'age_last_milestone_year', 'relationships', 'funding_rounds',\n",
       "       'funding_total_usd', 'milestones', 'state_code.1', 'is_CA', 'is_NY',\n",
       "       'is_MA', 'is_TX', 'is_otherstate', 'category_code', 'is_software',\n",
       "       'is_web', 'is_mobile', 'is_enterprise', 'is_advertising',\n",
       "       'is_gamesvideo', 'is_ecommerce', 'is_biotech', 'is_consulting',\n",
       "       'is_othercategory', 'object_id', 'has_VC', 'has_angel', 'has_roundA',\n",
       "       'has_roundB', 'has_roundC', 'has_roundD', 'avg_participants',\n",
       "       'is_top500', 'status'],\n",
       "      dtype='object')"
      ]
     },
     "execution_count": 5,
     "metadata": {},
     "output_type": "execute_result"
    }
   ],
   "source": [
    "df.columns"
   ]
  },
  {
   "cell_type": "code",
   "execution_count": 6,
   "id": "ad86bbec",
   "metadata": {},
   "outputs": [
    {
     "name": "stdout",
     "output_type": "stream",
     "text": [
      "<class 'pandas.core.frame.DataFrame'>\n",
      "RangeIndex: 923 entries, 0 to 922\n",
      "Data columns (total 49 columns):\n",
      " #   Column                    Non-Null Count  Dtype  \n",
      "---  ------                    --------------  -----  \n",
      " 0   Unnamed: 0                923 non-null    int64  \n",
      " 1   state_code                923 non-null    object \n",
      " 2   latitude                  923 non-null    float64\n",
      " 3   longitude                 923 non-null    float64\n",
      " 4   zip_code                  923 non-null    object \n",
      " 5   id                        923 non-null    object \n",
      " 6   city                      923 non-null    object \n",
      " 7   Unnamed: 6                430 non-null    object \n",
      " 8   name                      923 non-null    object \n",
      " 9   labels                    923 non-null    int64  \n",
      " 10  founded_at                923 non-null    object \n",
      " 11  closed_at                 335 non-null    object \n",
      " 12  first_funding_at          923 non-null    object \n",
      " 13  last_funding_at           923 non-null    object \n",
      " 14  age_first_funding_year    923 non-null    float64\n",
      " 15  age_last_funding_year     923 non-null    float64\n",
      " 16  age_first_milestone_year  771 non-null    float64\n",
      " 17  age_last_milestone_year   771 non-null    float64\n",
      " 18  relationships             923 non-null    int64  \n",
      " 19  funding_rounds            923 non-null    int64  \n",
      " 20  funding_total_usd         923 non-null    int64  \n",
      " 21  milestones                923 non-null    int64  \n",
      " 22  state_code.1              922 non-null    object \n",
      " 23  is_CA                     923 non-null    int64  \n",
      " 24  is_NY                     923 non-null    int64  \n",
      " 25  is_MA                     923 non-null    int64  \n",
      " 26  is_TX                     923 non-null    int64  \n",
      " 27  is_otherstate             923 non-null    int64  \n",
      " 28  category_code             923 non-null    object \n",
      " 29  is_software               923 non-null    int64  \n",
      " 30  is_web                    923 non-null    int64  \n",
      " 31  is_mobile                 923 non-null    int64  \n",
      " 32  is_enterprise             923 non-null    int64  \n",
      " 33  is_advertising            923 non-null    int64  \n",
      " 34  is_gamesvideo             923 non-null    int64  \n",
      " 35  is_ecommerce              923 non-null    int64  \n",
      " 36  is_biotech                923 non-null    int64  \n",
      " 37  is_consulting             923 non-null    int64  \n",
      " 38  is_othercategory          923 non-null    int64  \n",
      " 39  object_id                 923 non-null    object \n",
      " 40  has_VC                    923 non-null    int64  \n",
      " 41  has_angel                 923 non-null    int64  \n",
      " 42  has_roundA                923 non-null    int64  \n",
      " 43  has_roundB                923 non-null    int64  \n",
      " 44  has_roundC                923 non-null    int64  \n",
      " 45  has_roundD                923 non-null    int64  \n",
      " 46  avg_participants          923 non-null    float64\n",
      " 47  is_top500                 923 non-null    int64  \n",
      " 48  status                    923 non-null    object \n",
      "dtypes: float64(7), int64(28), object(14)\n",
      "memory usage: 353.5+ KB\n"
     ]
    }
   ],
   "source": [
    "df.info()"
   ]
  },
  {
   "cell_type": "markdown",
   "id": "ffa4b4dc",
   "metadata": {},
   "source": [
    "<h2> Data Cleaning </h2>"
   ]
  },
  {
   "cell_type": "code",
   "execution_count": 7,
   "id": "21eb8c7f",
   "metadata": {},
   "outputs": [
    {
     "data": {
      "text/plain": [
       "dtype('O')"
      ]
     },
     "execution_count": 7,
     "metadata": {},
     "output_type": "execute_result"
    }
   ],
   "source": [
    "df['founded_at'].dtype"
   ]
  },
  {
   "cell_type": "markdown",
   "id": "29498073",
   "metadata": {},
   "source": [
    "<h4> 1. Handling mismatch in data types"
   ]
  },
  {
   "cell_type": "code",
   "execution_count": 8,
   "id": "9b6c566d",
   "metadata": {},
   "outputs": [],
   "source": [
    "# Converting object type to date type \n",
    "\n",
    "df['founded_at'] = pd.to_datetime(df['founded_at'])\n",
    "df['closed_at'] = pd.to_datetime(df['closed_at'])\n",
    "df['first_funding_at'] = pd.to_datetime(df['first_funding_at'])\n",
    "df['last_funding_at'] = pd.to_datetime(df['last_funding_at'])"
   ]
  },
  {
   "cell_type": "code",
   "execution_count": 9,
   "id": "5715c671",
   "metadata": {},
   "outputs": [
    {
     "data": {
      "text/plain": [
       "0   2007-01-01\n",
       "1   2000-01-01\n",
       "2   2009-03-18\n",
       "3   2002-01-01\n",
       "4   2010-08-01\n",
       "Name: founded_at, dtype: datetime64[ns]"
      ]
     },
     "execution_count": 9,
     "metadata": {},
     "output_type": "execute_result"
    }
   ],
   "source": [
    "df['founded_at'].head()"
   ]
  },
  {
   "cell_type": "markdown",
   "id": "2d6f1efa",
   "metadata": {},
   "source": [
    "<h4> 2. Handling null-values </h4>"
   ]
  },
  {
   "cell_type": "code",
   "execution_count": 10,
   "id": "bbff3749",
   "metadata": {},
   "outputs": [
    {
     "data": {
      "text/plain": [
       "Unnamed: 0                    0\n",
       "state_code                    0\n",
       "latitude                      0\n",
       "longitude                     0\n",
       "zip_code                      0\n",
       "id                            0\n",
       "city                          0\n",
       "Unnamed: 6                  493\n",
       "name                          0\n",
       "labels                        0\n",
       "founded_at                    0\n",
       "closed_at                   588\n",
       "first_funding_at              0\n",
       "last_funding_at               0\n",
       "age_first_funding_year        0\n",
       "age_last_funding_year         0\n",
       "age_first_milestone_year    152\n",
       "age_last_milestone_year     152\n",
       "relationships                 0\n",
       "funding_rounds                0\n",
       "funding_total_usd             0\n",
       "milestones                    0\n",
       "state_code.1                  1\n",
       "is_CA                         0\n",
       "is_NY                         0\n",
       "is_MA                         0\n",
       "is_TX                         0\n",
       "is_otherstate                 0\n",
       "category_code                 0\n",
       "is_software                   0\n",
       "is_web                        0\n",
       "is_mobile                     0\n",
       "is_enterprise                 0\n",
       "is_advertising                0\n",
       "is_gamesvideo                 0\n",
       "is_ecommerce                  0\n",
       "is_biotech                    0\n",
       "is_consulting                 0\n",
       "is_othercategory              0\n",
       "object_id                     0\n",
       "has_VC                        0\n",
       "has_angel                     0\n",
       "has_roundA                    0\n",
       "has_roundB                    0\n",
       "has_roundC                    0\n",
       "has_roundD                    0\n",
       "avg_participants              0\n",
       "is_top500                     0\n",
       "status                        0\n",
       "dtype: int64"
      ]
     },
     "execution_count": 10,
     "metadata": {},
     "output_type": "execute_result"
    }
   ],
   "source": [
    "df.isna().sum()"
   ]
  },
  {
   "cell_type": "code",
   "execution_count": 11,
   "id": "7cd93306",
   "metadata": {},
   "outputs": [
    {
     "data": {
      "text/plain": [
       "Timestamp('2013-10-30 00:00:00')"
      ]
     },
     "execution_count": 11,
     "metadata": {},
     "output_type": "execute_result"
    }
   ],
   "source": [
    "# It is seen that there are null values in 'closed_at' columns, getting the last available date\n",
    "\n",
    "df['closed_at'].max()"
   ]
  },
  {
   "cell_type": "code",
   "execution_count": 12,
   "id": "14e61f7d",
   "metadata": {},
   "outputs": [],
   "source": [
    "# filling the na values in closed date column with an assumption \n",
    "\n",
    "last_date = pd.to_datetime('2013-12-31')\n",
    "df['closed_at'] = df['closed_at'].fillna(last_date)"
   ]
  },
  {
   "cell_type": "code",
   "execution_count": 13,
   "id": "af80095b",
   "metadata": {},
   "outputs": [
    {
     "name": "stdout",
     "output_type": "stream",
     "text": [
      "Yes both the columns have null values at the same index\n"
     ]
    }
   ],
   "source": [
    "# checking if the 152 null values in both the milestone columns are of same index\n",
    "\n",
    "if (df['age_first_milestone_year'].isna().index == df['age_last_milestone_year'].isna().index).all():\n",
    "    print('Yes both the columns have null values at the same index')"
   ]
  },
  {
   "cell_type": "code",
   "execution_count": 14,
   "id": "ea2bd01b",
   "metadata": {},
   "outputs": [
    {
     "data": {
      "text/plain": [
       "closed      105\n",
       "acquired     47\n",
       "Name: status, dtype: int64"
      ]
     },
     "execution_count": 14,
     "metadata": {},
     "output_type": "execute_result"
    }
   ],
   "source": [
    "# Counting the closed/acquired status of these null values\n",
    "\n",
    "df_mile = df.loc[df['age_last_milestone_year'].isna(),'status'].reset_index()\n",
    "df_mile['status'].value_counts()"
   ]
  },
  {
   "cell_type": "code",
   "execution_count": 15,
   "id": "1ccf3d03",
   "metadata": {},
   "outputs": [
    {
     "data": {
      "text/plain": [
       "status\n",
       "acquired    5.295417\n",
       "closed      3.408055\n",
       "Name: age_last_milestone_year, dtype: float64"
      ]
     },
     "execution_count": 15,
     "metadata": {},
     "output_type": "execute_result"
    }
   ],
   "source": [
    "df.groupby(['status'])['age_last_milestone_year'].mean()"
   ]
  },
  {
   "cell_type": "code",
   "execution_count": 16,
   "id": "5d36e15c",
   "metadata": {},
   "outputs": [
    {
     "data": {
      "text/plain": [
       "status\n",
       "acquired    3.361397\n",
       "closed      2.293706\n",
       "Name: age_first_milestone_year, dtype: float64"
      ]
     },
     "execution_count": 16,
     "metadata": {},
     "output_type": "execute_result"
    }
   ],
   "source": [
    "df.groupby(['status'])['age_first_milestone_year'].mean()"
   ]
  },
  {
   "cell_type": "code",
   "execution_count": 17,
   "id": "cc1fc95b",
   "metadata": {},
   "outputs": [
    {
     "data": {
      "text/plain": [
       "Unnamed: 0                    0\n",
       "state_code                    0\n",
       "latitude                      0\n",
       "longitude                     0\n",
       "zip_code                      0\n",
       "id                            0\n",
       "city                          0\n",
       "Unnamed: 6                  493\n",
       "name                          0\n",
       "labels                        0\n",
       "founded_at                    0\n",
       "closed_at                     0\n",
       "first_funding_at              0\n",
       "last_funding_at               0\n",
       "age_first_funding_year        0\n",
       "age_last_funding_year         0\n",
       "age_first_milestone_year      0\n",
       "age_last_milestone_year       0\n",
       "relationships                 0\n",
       "funding_rounds                0\n",
       "funding_total_usd             0\n",
       "milestones                    0\n",
       "state_code.1                  1\n",
       "is_CA                         0\n",
       "is_NY                         0\n",
       "is_MA                         0\n",
       "is_TX                         0\n",
       "is_otherstate                 0\n",
       "category_code                 0\n",
       "is_software                   0\n",
       "is_web                        0\n",
       "is_mobile                     0\n",
       "is_enterprise                 0\n",
       "is_advertising                0\n",
       "is_gamesvideo                 0\n",
       "is_ecommerce                  0\n",
       "is_biotech                    0\n",
       "is_consulting                 0\n",
       "is_othercategory              0\n",
       "object_id                     0\n",
       "has_VC                        0\n",
       "has_angel                     0\n",
       "has_roundA                    0\n",
       "has_roundB                    0\n",
       "has_roundC                    0\n",
       "has_roundD                    0\n",
       "avg_participants              0\n",
       "is_top500                     0\n",
       "status                        0\n",
       "dtype: int64"
      ]
     },
     "execution_count": 17,
     "metadata": {},
     "output_type": "execute_result"
    }
   ],
   "source": [
    "# It is seen that more than half of the Nan values are closed, Hence these null values are replaced by the avg.closed values\n",
    "\n",
    "df['age_first_milestone_year'] = df['age_first_milestone_year'].fillna(2)\n",
    "df['age_last_milestone_year'] = df['age_last_milestone_year'].fillna(3)\n",
    "df.isnull().sum()\n",
    "\n",
    "# Now all the null values from the dataframe are removed"
   ]
  },
  {
   "cell_type": "markdown",
   "id": "dd7f29be",
   "metadata": {},
   "source": [
    "<h4> 3. Feature optimization </h4>"
   ]
  },
  {
   "cell_type": "code",
   "execution_count": 18,
   "id": "05dcc3cc",
   "metadata": {},
   "outputs": [
    {
     "data": {
      "text/html": [
       "<div>\n",
       "<style scoped>\n",
       "    .dataframe tbody tr th:only-of-type {\n",
       "        vertical-align: middle;\n",
       "    }\n",
       "\n",
       "    .dataframe tbody tr th {\n",
       "        vertical-align: top;\n",
       "    }\n",
       "\n",
       "    .dataframe thead th {\n",
       "        text-align: right;\n",
       "    }\n",
       "</style>\n",
       "<table border=\"1\" class=\"dataframe\">\n",
       "  <thead>\n",
       "    <tr style=\"text-align: right;\">\n",
       "      <th></th>\n",
       "      <th>closed_at</th>\n",
       "      <th>founded_at</th>\n",
       "    </tr>\n",
       "  </thead>\n",
       "  <tbody>\n",
       "    <tr>\n",
       "      <th>0</th>\n",
       "      <td>2013-12-31</td>\n",
       "      <td>2007-01-01</td>\n",
       "    </tr>\n",
       "    <tr>\n",
       "      <th>1</th>\n",
       "      <td>2013-12-31</td>\n",
       "      <td>2000-01-01</td>\n",
       "    </tr>\n",
       "    <tr>\n",
       "      <th>2</th>\n",
       "      <td>2013-12-31</td>\n",
       "      <td>2009-03-18</td>\n",
       "    </tr>\n",
       "    <tr>\n",
       "      <th>3</th>\n",
       "      <td>2013-12-31</td>\n",
       "      <td>2002-01-01</td>\n",
       "    </tr>\n",
       "    <tr>\n",
       "      <th>4</th>\n",
       "      <td>2012-10-01</td>\n",
       "      <td>2010-08-01</td>\n",
       "    </tr>\n",
       "  </tbody>\n",
       "</table>\n",
       "</div>"
      ],
      "text/plain": [
       "   closed_at founded_at\n",
       "0 2013-12-31 2007-01-01\n",
       "1 2013-12-31 2000-01-01\n",
       "2 2013-12-31 2009-03-18\n",
       "3 2013-12-31 2002-01-01\n",
       "4 2012-10-01 2010-08-01"
      ]
     },
     "execution_count": 18,
     "metadata": {},
     "output_type": "execute_result"
    }
   ],
   "source": [
    "df.loc[:,['closed_at','founded_at']].head()"
   ]
  },
  {
   "cell_type": "code",
   "execution_count": 19,
   "id": "0fd247f6",
   "metadata": {},
   "outputs": [],
   "source": [
    "# Adding a column for age of each company\n",
    "\n",
    "df['company_age'] = (df['closed_at'] - df['founded_at'])/np.timedelta64(1,'Y')"
   ]
  },
  {
   "cell_type": "code",
   "execution_count": 20,
   "id": "6689432a",
   "metadata": {},
   "outputs": [
    {
     "data": {
      "text/plain": [
       "0     6.998090\n",
       "1    13.998919\n",
       "2     4.788599\n",
       "3    11.997509\n",
       "4     2.168422\n",
       "Name: company_age, dtype: float64"
      ]
     },
     "execution_count": 20,
     "metadata": {},
     "output_type": "execute_result"
    }
   ],
   "source": [
    "df.company_age.head()"
   ]
  },
  {
   "cell_type": "markdown",
   "id": "c0493f38",
   "metadata": {},
   "source": [
    "<h4> 4.Outliers </h4>"
   ]
  },
  {
   "cell_type": "code",
   "execution_count": 21,
   "id": "cd664d09",
   "metadata": {},
   "outputs": [
    {
     "data": {
      "text/plain": [
       "3"
      ]
     },
     "execution_count": 21,
     "metadata": {},
     "output_type": "execute_result"
    }
   ],
   "source": [
    "# checking for outliers\n",
    "\n",
    "neg_age = df['company_age']<0\n",
    "neg_age.sum()"
   ]
  },
  {
   "cell_type": "code",
   "execution_count": 22,
   "id": "98a3facc",
   "metadata": {},
   "outputs": [],
   "source": [
    "# removing the outliers\n",
    "\n",
    "df = df.loc[lambda df: df['company_age']>0,:].reset_index()"
   ]
  },
  {
   "cell_type": "code",
   "execution_count": 23,
   "id": "c8f8fb59",
   "metadata": {},
   "outputs": [
    {
     "data": {
      "text/plain": [
       "919"
      ]
     },
     "execution_count": 23,
     "metadata": {},
     "output_type": "execute_result"
    }
   ],
   "source": [
    "df['name'].nunique()"
   ]
  },
  {
   "cell_type": "code",
   "execution_count": 24,
   "id": "db7c9499",
   "metadata": {},
   "outputs": [
    {
     "data": {
      "text/plain": [
       "Redwood Systems         2\n",
       "Bandsintown             1\n",
       "xkoto                   1\n",
       "Jobs2Web                1\n",
       "HighlightCam            1\n",
       "                       ..\n",
       "Powerset                1\n",
       "Kiptronic               1\n",
       "Cozi Group              1\n",
       "Likewise Software       1\n",
       "Asempra Technologies    1\n",
       "Name: name, Length: 919, dtype: int64"
      ]
     },
     "execution_count": 24,
     "metadata": {},
     "output_type": "execute_result"
    }
   ],
   "source": [
    "# shape has 920 but unique terms in name column is 919, so have to remove the duplicate\n",
    "\n",
    "df['name'].value_counts()"
   ]
  },
  {
   "cell_type": "code",
   "execution_count": 25,
   "id": "c617aff1",
   "metadata": {},
   "outputs": [
    {
     "data": {
      "text/html": [
       "<div>\n",
       "<style scoped>\n",
       "    .dataframe tbody tr th:only-of-type {\n",
       "        vertical-align: middle;\n",
       "    }\n",
       "\n",
       "    .dataframe tbody tr th {\n",
       "        vertical-align: top;\n",
       "    }\n",
       "\n",
       "    .dataframe thead th {\n",
       "        text-align: right;\n",
       "    }\n",
       "</style>\n",
       "<table border=\"1\" class=\"dataframe\">\n",
       "  <thead>\n",
       "    <tr style=\"text-align: right;\">\n",
       "      <th></th>\n",
       "      <th>index</th>\n",
       "      <th>Unnamed: 0</th>\n",
       "      <th>state_code</th>\n",
       "      <th>latitude</th>\n",
       "      <th>longitude</th>\n",
       "      <th>zip_code</th>\n",
       "      <th>id</th>\n",
       "      <th>city</th>\n",
       "      <th>Unnamed: 6</th>\n",
       "      <th>name</th>\n",
       "      <th>...</th>\n",
       "      <th>has_VC</th>\n",
       "      <th>has_angel</th>\n",
       "      <th>has_roundA</th>\n",
       "      <th>has_roundB</th>\n",
       "      <th>has_roundC</th>\n",
       "      <th>has_roundD</th>\n",
       "      <th>avg_participants</th>\n",
       "      <th>is_top500</th>\n",
       "      <th>status</th>\n",
       "      <th>company_age</th>\n",
       "    </tr>\n",
       "  </thead>\n",
       "  <tbody>\n",
       "    <tr>\n",
       "      <th>122</th>\n",
       "      <td>124</td>\n",
       "      <td>506</td>\n",
       "      <td>CA</td>\n",
       "      <td>37.54827</td>\n",
       "      <td>-121.988572</td>\n",
       "      <td>94538</td>\n",
       "      <td>c:28482</td>\n",
       "      <td>Fremont</td>\n",
       "      <td>Fremont CA 94538</td>\n",
       "      <td>Redwood Systems</td>\n",
       "      <td>...</td>\n",
       "      <td>1</td>\n",
       "      <td>0</td>\n",
       "      <td>1</td>\n",
       "      <td>1</td>\n",
       "      <td>1</td>\n",
       "      <td>0</td>\n",
       "      <td>2.25</td>\n",
       "      <td>1</td>\n",
       "      <td>acquired</td>\n",
       "      <td>5.998754</td>\n",
       "    </tr>\n",
       "    <tr>\n",
       "      <th>829</th>\n",
       "      <td>832</td>\n",
       "      <td>505</td>\n",
       "      <td>CA</td>\n",
       "      <td>37.48151</td>\n",
       "      <td>-121.945328</td>\n",
       "      <td>94538</td>\n",
       "      <td>c:28482</td>\n",
       "      <td>Fremont</td>\n",
       "      <td>NaN</td>\n",
       "      <td>Redwood Systems</td>\n",
       "      <td>...</td>\n",
       "      <td>1</td>\n",
       "      <td>0</td>\n",
       "      <td>1</td>\n",
       "      <td>1</td>\n",
       "      <td>1</td>\n",
       "      <td>0</td>\n",
       "      <td>2.25</td>\n",
       "      <td>1</td>\n",
       "      <td>acquired</td>\n",
       "      <td>5.998754</td>\n",
       "    </tr>\n",
       "  </tbody>\n",
       "</table>\n",
       "<p>2 rows × 51 columns</p>\n",
       "</div>"
      ],
      "text/plain": [
       "     index  Unnamed: 0 state_code  latitude   longitude zip_code       id  \\\n",
       "122    124         506         CA  37.54827 -121.988572    94538  c:28482   \n",
       "829    832         505         CA  37.48151 -121.945328    94538  c:28482   \n",
       "\n",
       "        city        Unnamed: 6             name  ...  has_VC has_angel  \\\n",
       "122  Fremont  Fremont CA 94538  Redwood Systems  ...       1         0   \n",
       "829  Fremont               NaN  Redwood Systems  ...       1         0   \n",
       "\n",
       "    has_roundA has_roundB has_roundC  has_roundD  avg_participants  is_top500  \\\n",
       "122          1          1          1           0              2.25          1   \n",
       "829          1          1          1           0              2.25          1   \n",
       "\n",
       "       status  company_age  \n",
       "122  acquired     5.998754  \n",
       "829  acquired     5.998754  \n",
       "\n",
       "[2 rows x 51 columns]"
      ]
     },
     "execution_count": 25,
     "metadata": {},
     "output_type": "execute_result"
    }
   ],
   "source": [
    "df.loc[df['name']=='Redwood Systems']"
   ]
  },
  {
   "cell_type": "code",
   "execution_count": 26,
   "id": "0ab5fffb",
   "metadata": {},
   "outputs": [],
   "source": [
    "# Dropping the duplicate row\n",
    "\n",
    "df.drop(df.iloc[[829]].index, inplace=True)"
   ]
  },
  {
   "cell_type": "code",
   "execution_count": 27,
   "id": "7624d263",
   "metadata": {},
   "outputs": [
    {
     "data": {
      "text/html": [
       "<div>\n",
       "<style scoped>\n",
       "    .dataframe tbody tr th:only-of-type {\n",
       "        vertical-align: middle;\n",
       "    }\n",
       "\n",
       "    .dataframe tbody tr th {\n",
       "        vertical-align: top;\n",
       "    }\n",
       "\n",
       "    .dataframe thead th {\n",
       "        text-align: right;\n",
       "    }\n",
       "</style>\n",
       "<table border=\"1\" class=\"dataframe\">\n",
       "  <thead>\n",
       "    <tr style=\"text-align: right;\">\n",
       "      <th></th>\n",
       "      <th>index</th>\n",
       "      <th>Unnamed: 0</th>\n",
       "      <th>state_code</th>\n",
       "      <th>latitude</th>\n",
       "      <th>longitude</th>\n",
       "      <th>zip_code</th>\n",
       "      <th>id</th>\n",
       "      <th>city</th>\n",
       "      <th>Unnamed: 6</th>\n",
       "      <th>name</th>\n",
       "      <th>...</th>\n",
       "      <th>has_VC</th>\n",
       "      <th>has_angel</th>\n",
       "      <th>has_roundA</th>\n",
       "      <th>has_roundB</th>\n",
       "      <th>has_roundC</th>\n",
       "      <th>has_roundD</th>\n",
       "      <th>avg_participants</th>\n",
       "      <th>is_top500</th>\n",
       "      <th>status</th>\n",
       "      <th>company_age</th>\n",
       "    </tr>\n",
       "  </thead>\n",
       "  <tbody>\n",
       "    <tr>\n",
       "      <th>122</th>\n",
       "      <td>124</td>\n",
       "      <td>506</td>\n",
       "      <td>CA</td>\n",
       "      <td>37.54827</td>\n",
       "      <td>-121.988572</td>\n",
       "      <td>94538</td>\n",
       "      <td>c:28482</td>\n",
       "      <td>Fremont</td>\n",
       "      <td>Fremont CA 94538</td>\n",
       "      <td>Redwood Systems</td>\n",
       "      <td>...</td>\n",
       "      <td>1</td>\n",
       "      <td>0</td>\n",
       "      <td>1</td>\n",
       "      <td>1</td>\n",
       "      <td>1</td>\n",
       "      <td>0</td>\n",
       "      <td>2.25</td>\n",
       "      <td>1</td>\n",
       "      <td>acquired</td>\n",
       "      <td>5.998754</td>\n",
       "    </tr>\n",
       "  </tbody>\n",
       "</table>\n",
       "<p>1 rows × 51 columns</p>\n",
       "</div>"
      ],
      "text/plain": [
       "     index  Unnamed: 0 state_code  latitude   longitude zip_code       id  \\\n",
       "122    124         506         CA  37.54827 -121.988572    94538  c:28482   \n",
       "\n",
       "        city        Unnamed: 6             name  ...  has_VC has_angel  \\\n",
       "122  Fremont  Fremont CA 94538  Redwood Systems  ...       1         0   \n",
       "\n",
       "    has_roundA has_roundB has_roundC  has_roundD  avg_participants  is_top500  \\\n",
       "122          1          1          1           0              2.25          1   \n",
       "\n",
       "       status  company_age  \n",
       "122  acquired     5.998754  \n",
       "\n",
       "[1 rows x 51 columns]"
      ]
     },
     "execution_count": 27,
     "metadata": {},
     "output_type": "execute_result"
    }
   ],
   "source": [
    "df.loc[df['name']=='Redwood Systems']"
   ]
  },
  {
   "cell_type": "code",
   "execution_count": 28,
   "id": "65ea4eb3",
   "metadata": {
    "scrolled": true
   },
   "outputs": [],
   "source": [
    "# dropping the additional index column which was generated during removing 'age' outliers\n",
    "\n",
    "df.drop(columns = ['index'], inplace=True)"
   ]
  },
  {
   "cell_type": "code",
   "execution_count": 29,
   "id": "8bc363de",
   "metadata": {},
   "outputs": [
    {
     "data": {
      "text/plain": [
       "Index(['Unnamed: 0', 'state_code', 'latitude', 'longitude', 'zip_code', 'id',\n",
       "       'city', 'Unnamed: 6', 'name', 'labels', 'founded_at', 'closed_at',\n",
       "       'first_funding_at', 'last_funding_at', 'age_first_funding_year',\n",
       "       'age_last_funding_year', 'age_first_milestone_year',\n",
       "       'age_last_milestone_year', 'relationships', 'funding_rounds',\n",
       "       'funding_total_usd', 'milestones', 'state_code.1', 'is_CA', 'is_NY',\n",
       "       'is_MA', 'is_TX', 'is_otherstate', 'category_code', 'is_software',\n",
       "       'is_web', 'is_mobile', 'is_enterprise', 'is_advertising',\n",
       "       'is_gamesvideo', 'is_ecommerce', 'is_biotech', 'is_consulting',\n",
       "       'is_othercategory', 'object_id', 'has_VC', 'has_angel', 'has_roundA',\n",
       "       'has_roundB', 'has_roundC', 'has_roundD', 'avg_participants',\n",
       "       'is_top500', 'status', 'company_age'],\n",
       "      dtype='object')"
      ]
     },
     "execution_count": 29,
     "metadata": {},
     "output_type": "execute_result"
    }
   ],
   "source": [
    "df.columns"
   ]
  },
  {
   "cell_type": "code",
   "execution_count": 30,
   "id": "e77e7687",
   "metadata": {},
   "outputs": [],
   "source": [
    "df.to_excel('forpower.xlsx')"
   ]
  },
  {
   "cell_type": "markdown",
   "id": "14ed1949",
   "metadata": {},
   "source": [
    "## Exploratory Data Analysis"
   ]
  },
  {
   "cell_type": "code",
   "execution_count": null,
   "id": "fd5a903f",
   "metadata": {},
   "outputs": [],
   "source": [
    "sns.pairplot(df, x_vars=['labels', 'age_first_funding_year', 'age_last_funding_year', 'relationships', 'funding_rounds', 'funding_total_usd', 'milestones', 'category_code', 'has_VC', 'has_angel', 'avg_participants', 'is_top500', 'company_age', 'status'], y_vars=['labels', 'age_first_funding_year', 'age_last_funding_year', 'relationships', 'funding_rounds', 'funding_total_usd', 'milestones', 'category_code', 'has_VC', 'has_angel', 'avg_participants', 'is_top500', 'company_age', 'status' ])"
   ]
  },
  {
   "cell_type": "code",
   "execution_count": 31,
   "id": "f2cc50a9",
   "metadata": {},
   "outputs": [
    {
     "data": {
      "image/png": "[encoded data removed]",
      "text/plain": [
       "<Figure size 640x480 with 2 Axes>"
      ]
     },
     "metadata": {},
     "output_type": "display_data"
    }
   ],
   "source": [
    "plt.subplot(1,2,1)\n",
    "sns.barplot(data=df, x = 'status', y='age_first_funding_year')\n",
    "\n",
    "plt.subplot(1,2,2)\n",
    "sns.barplot(data=df, x = 'status', y='age_last_funding_year')\n",
    "\n",
    "plt.suptitle('Age of the first and the last funding vs The Status of the Startup', x= 1, y= 1.02)\n",
    "plt.subplots_adjust(left=None, bottom=None, right=2)"
   ]
  },
  {
   "cell_type": "markdown",
   "id": "55adb807",
   "metadata": {},
   "source": [
    "<h4> <center> If the first funding is too late, There is a high possibility to be pushed to loss </center></h4>"
   ]
  },
  {
   "cell_type": "code",
   "execution_count": 32,
   "id": "796a0ac4",
   "metadata": {},
   "outputs": [
    {
     "data": {
      "image/png": "[encoded data removed]",
      "text/plain": [
       "<Figure size 640x480 with 2 Axes>"
      ]
     },
     "metadata": {},
     "output_type": "display_data"
    }
   ],
   "source": [
    "plt.subplot(1,2,1)\n",
    "sns.barplot(data=df, x='is_top500',y='company_age', palette =sns.color_palette(\"Set2\",5))\n",
    "plt.title('Age of the Startup vs Startup in top 500')\n",
    "\n",
    "plt.subplot(1,2,2)\n",
    "sns.barplot(data=df, x='is_top500',y='status', palette =sns.color_palette(\"Set2\",5))\n",
    "plt.title('Probability to be acquired/closed if in top 500')\n",
    "\n",
    "plt.subplots_adjust(right=2)"
   ]
  },
  {
   "cell_type": "markdown",
   "id": "1022cee2",
   "metadata": {},
   "source": [
    " <h4> <center> The probablity of a company being acquired is high, when it reaches top_500 position and sustain longer period of time </center></h4>"
   ]
  },
  {
   "cell_type": "code",
   "execution_count": 33,
   "id": "39530aee",
   "metadata": {},
   "outputs": [],
   "source": [
    "# frequency of acquired categories\n",
    "\n",
    "acq_cat = df.loc[df['status']=='acquired']['category_code'].value_counts().nlargest(7).reset_index().rename(columns={'index':'Category', 'category_code':'Frequency'})"
   ]
  },
  {
   "cell_type": "code",
   "execution_count": 34,
   "id": "6d640147",
   "metadata": {},
   "outputs": [],
   "source": [
    "# frequency of different categories\n",
    "\n",
    "df_cat = df['category_code'].value_counts().nlargest(7).reset_index().rename(columns={'index':'Category', 'category_code':'Frequency'})"
   ]
  },
  {
   "cell_type": "code",
   "execution_count": 35,
   "id": "99967a59",
   "metadata": {},
   "outputs": [
    {
     "data": {
      "text/plain": [
       "Text(0, 0.5, 'Startups')"
      ]
     },
     "execution_count": 35,
     "metadata": {},
     "output_type": "execute_result"
    },
    {
     "data": {
      "image/png": "[encoded data removed]",
      "text/plain": [
       "<Figure size 1200x600 with 1 Axes>"
      ]
     },
     "metadata": {},
     "output_type": "display_data"
    }
   ],
   "source": [
    "plt.figure(figsize = (12,6))\n",
    "sns.barplot(data=df_cat, x='Category',y='Frequency', palette=sns.color_palette(\"husl\", 9))\n",
    "sns.lineplot(data=acq_cat, x='Category',y='Frequency', color = 'red')\n",
    "plt.title('TOP 7 Startup categories along with their acquisition count in line plot')\n",
    "plt.ylabel('Startups')"
   ]
  },
  {
   "cell_type": "code",
   "execution_count": 36,
   "id": "530b5bdd",
   "metadata": {},
   "outputs": [
    {
     "data": {
      "text/plain": [
       "Index(['Unnamed: 0', 'state_code', 'latitude', 'longitude', 'zip_code', 'id',\n",
       "       'city', 'Unnamed: 6', 'name', 'labels', 'founded_at', 'closed_at',\n",
       "       'first_funding_at', 'last_funding_at', 'age_first_funding_year',\n",
       "       'age_last_funding_year', 'age_first_milestone_year',\n",
       "       'age_last_milestone_year', 'relationships', 'funding_rounds',\n",
       "       'funding_total_usd', 'milestones', 'state_code.1', 'is_CA', 'is_NY',\n",
       "       'is_MA', 'is_TX', 'is_otherstate', 'category_code', 'is_software',\n",
       "       'is_web', 'is_mobile', 'is_enterprise', 'is_advertising',\n",
       "       'is_gamesvideo', 'is_ecommerce', 'is_biotech', 'is_consulting',\n",
       "       'is_othercategory', 'object_id', 'has_VC', 'has_angel', 'has_roundA',\n",
       "       'has_roundB', 'has_roundC', 'has_roundD', 'avg_participants',\n",
       "       'is_top500', 'status', 'company_age'],\n",
       "      dtype='object')"
      ]
     },
     "execution_count": 36,
     "metadata": {},
     "output_type": "execute_result"
    }
   ],
   "source": [
    "df.columns"
   ]
  },
  {
   "cell_type": "code",
   "execution_count": 37,
   "id": "f5014c16",
   "metadata": {},
   "outputs": [],
   "source": [
    "rel_fund = df.groupby(['relationships','funding_total_usd']).size().reset_index()\n",
    "rel_fund = rel_fund.pivot_table(index='relationships', values='funding_total_usd', aggfunc='mean').nlargest(10, columns=['funding_total_usd']).reset_index()"
   ]
  },
  {
   "cell_type": "code",
   "execution_count": 38,
   "id": "4b8e897e",
   "metadata": {},
   "outputs": [
    {
     "data": {
      "text/plain": [
       "Text(0.5, 1.0, 'Mean relationship with highest funding')"
      ]
     },
     "execution_count": 38,
     "metadata": {},
     "output_type": "execute_result"
    },
    {
     "data": {
      "image/png": "[encoded data removed]",
      "text/plain": [
       "<Figure size 640x480 with 1 Axes>"
      ]
     },
     "metadata": {},
     "output_type": "display_data"
    }
   ],
   "source": [
    "# Optimal number of relationship with highest funding\n",
    "\n",
    "sns.barplot(data=rel_fund, x='relationships', y='funding_total_usd')\n",
    "plt.title('Mean relationship with highest funding')"
   ]
  },
  {
   "cell_type": "code",
   "execution_count": 39,
   "id": "3a8e67dc",
   "metadata": {},
   "outputs": [],
   "source": [
    "# Ranking the states from which the Startups where acquired\n",
    "\n",
    "acq_state = df.loc[df['status']=='acquired']['state_code'].value_counts().nlargest(7).reset_index().rename(columns={'index':'State', 'state_code':'Frequency'})"
   ]
  },
  {
   "cell_type": "code",
   "execution_count": 40,
   "id": "87d6fbee",
   "metadata": {},
   "outputs": [],
   "source": [
    "# Overall Ranking of the states with the Startups \n",
    "\n",
    "df_state = df['state_code'].value_counts().nlargest(7).reset_index().rename(columns={'index':'State', 'state_code':'Frequency'})"
   ]
  },
  {
   "cell_type": "code",
   "execution_count": 41,
   "id": "feea8030",
   "metadata": {},
   "outputs": [
    {
     "data": {
      "text/plain": [
       "Text(0, 0.5, 'Startups')"
      ]
     },
     "execution_count": 41,
     "metadata": {},
     "output_type": "execute_result"
    },
    {
     "data": {
      "image/png": "[encoded data removed]",
      "text/plain": [
       "<Figure size 1200x600 with 1 Axes>"
      ]
     },
     "metadata": {},
     "output_type": "display_data"
    }
   ],
   "source": [
    "plt.figure(figsize = (12,6))\n",
    "sns.barplot(data=df_state, x='State',y='Frequency', palette=sns.color_palette(\"husl\", 9))\n",
    "sns.lineplot(data=acq_state, x='State',y='Frequency', color = 'red')\n",
    "plt.title('Line plot: Ranking the states from which the Startups where acquired \\n Barplot: States with most startups')\n",
    "plt.ylabel('Startups')"
   ]
  },
  {
   "cell_type": "code",
   "execution_count": 42,
   "id": "9ddeb9fa",
   "metadata": {},
   "outputs": [],
   "source": [
    "# States with maximum funding\n",
    "\n",
    "state_fund = df.groupby(['state_code','funding_total_usd']).size().reset_index()\n",
    "state_fund = state_fund.pivot_table(index='state_code', values='funding_total_usd', aggfunc='mean').nlargest(10, columns=['funding_total_usd']).reset_index()"
   ]
  },
  {
   "cell_type": "code",
   "execution_count": 43,
   "id": "9f524e20",
   "metadata": {},
   "outputs": [
    {
     "data": {
      "text/plain": [
       "Text(0.5, 1.0, 'States with highest funding')"
      ]
     },
     "execution_count": 43,
     "metadata": {},
     "output_type": "execute_result"
    },
    {
     "data": {
      "image/png": "[encoded data removed]",
      "text/plain": [
       "<Figure size 640x480 with 1 Axes>"
      ]
     },
     "metadata": {},
     "output_type": "display_data"
    }
   ],
   "source": [
    "# Plot to show states which received most funding\n",
    "\n",
    "sns.barplot(data=state_fund, x='state_code', y='funding_total_usd')\n",
    "plt.title('States with highest funding')"
   ]
  },
  {
   "cell_type": "markdown",
   "id": "0762c8c2",
   "metadata": {},
   "source": [
    "<h4> <center> This shows that, even though the number of startups are very less in 'WA' compared to other states,<br> the funding is very high compared to 'CA' which has the highest average funding </center></h4>"
   ]
  },
  {
   "cell_type": "code",
   "execution_count": 44,
   "id": "02dde0f7",
   "metadata": {},
   "outputs": [],
   "source": [
    "# Number of Categories present in each state\n",
    "\n",
    "df_state_cat = df.groupby(['state_code', 'category_code']).size().reset_index()\n",
    "df_state_cat = df_state_cat.pivot_table(index='state_code', values='category_code', aggfunc='count').nlargest(10, columns=['category_code']).reset_index()"
   ]
  },
  {
   "cell_type": "code",
   "execution_count": 45,
   "id": "775bbc83",
   "metadata": {},
   "outputs": [
    {
     "data": {
      "image/png": "[encoded data removed]",
      "text/plain": [
       "<Figure size 700x700 with 2 Axes>"
      ]
     },
     "metadata": {},
     "output_type": "display_data"
    }
   ],
   "source": [
    "plt.figure(figsize=(7,7))\n",
    "\n",
    "plt.subplot(1,2,1)\n",
    "plt.pie(df_state_cat['category_code'], labels = df_state_cat['state_code'], autopct = '%1.2f%%' )\n",
    "plt.title('States where Startups with most Category are present')\n",
    "\n",
    "plt.subplot(1,2,2)\n",
    "plt.pie(acq_state['Frequency'], labels = acq_state['State'], autopct = '%1.2f%%' )\n",
    "plt.title('States where Startups are mostly acquired')\n",
    "\n",
    "plt.subplots_adjust(right=2)"
   ]
  },
  {
   "cell_type": "markdown",
   "id": "624849cd",
   "metadata": {},
   "source": [
    "<h4> <center> Though CA stands 8th in terms if funding, More number of Startups and Categories makes it Successful in being acquired  </center></h4>"
   ]
  },
  {
   "cell_type": "code",
   "execution_count": null,
   "id": "6872b6cc",
   "metadata": {},
   "outputs": [],
   "source": [
    "df.columns"
   ]
  },
  {
   "cell_type": "markdown",
   "id": "545df4be",
   "metadata": {},
   "source": [
    "## Feature Selection"
   ]
  },
  {
   "cell_type": "code",
   "execution_count": null,
   "id": "e6a2aa1c",
   "metadata": {},
   "outputs": [],
   "source": [
    "remove_col = ['Unnamed: 0', 'name', 'state_code', 'latitude', 'longitude', 'zip_code', 'id', 'Unnamed: 6', 'founded_at','closed_at', 'first_funding_at', 'last_funding_at',  'state_code.1', 'category_code', 'object_id']"
   ]
  },
  {
   "cell_type": "code",
   "execution_count": null,
   "id": "7477d1aa",
   "metadata": {},
   "outputs": [],
   "source": [
    "# These are unnecessary columns and hence can be removed during Model fitting\n",
    "\n",
    "len(remove_col)"
   ]
  },
  {
   "cell_type": "code",
   "execution_count": null,
   "id": "f904f7bc",
   "metadata": {},
   "outputs": [],
   "source": [
    "# Columns are dropped\n",
    "\n",
    "df.drop(columns=remove_col,inplace=True)"
   ]
  },
  {
   "cell_type": "code",
   "execution_count": null,
   "id": "32da9317",
   "metadata": {},
   "outputs": [],
   "source": [
    "len(df.columns)"
   ]
  },
  {
   "cell_type": "markdown",
   "id": "c36ef100",
   "metadata": {},
   "source": [
    "## Feature Engineering"
   ]
  },
  {
   "cell_type": "code",
   "execution_count": null,
   "id": "fdda5e87",
   "metadata": {},
   "outputs": [],
   "source": [
    "df.info()"
   ]
  },
  {
   "cell_type": "code",
   "execution_count": null,
   "id": "0b807479",
   "metadata": {},
   "outputs": [],
   "source": [
    "df = pd.get_dummies(df, columns = ['city'], drop_first = True)"
   ]
  },
  {
   "cell_type": "code",
   "execution_count": null,
   "id": "9ee2be2e",
   "metadata": {},
   "outputs": [],
   "source": [
    "df.head()"
   ]
  },
  {
   "cell_type": "markdown",
   "id": "12956877",
   "metadata": {},
   "source": [
    "## Data Modelling"
   ]
  },
  {
   "cell_type": "code",
   "execution_count": null,
   "id": "f23358f8",
   "metadata": {},
   "outputs": [],
   "source": [
    "from sklearn.model_selection import train_test_split\n",
    "from sklearn.metrics import mean_squared_error as MSE\n",
    "from sklearn.ensemble import GradientBoostingClassifier"
   ]
  },
  {
   "cell_type": "code",
   "execution_count": null,
   "id": "9f982077",
   "metadata": {},
   "outputs": [],
   "source": [
    "X = df.drop(columns=['status'])\n",
    "y = df['status']\n",
    "y = pd.get_dummies(y)\n",
    "y = y.drop(['closed'], axis = 1).squeeze()"
   ]
  },
  {
   "cell_type": "code",
   "execution_count": null,
   "id": "b39b4aa6",
   "metadata": {},
   "outputs": [],
   "source": [
    "X_train, X_test, y_train, y_test = train_test_split(X, y, test_size = 0.3, random_state = 123)"
   ]
  },
  {
   "cell_type": "markdown",
   "id": "11cbed68",
   "metadata": {},
   "source": [
    "### 1.Gradient Boosting Classifier"
   ]
  },
  {
   "cell_type": "code",
   "execution_count": null,
   "id": "0c719558",
   "metadata": {},
   "outputs": [],
   "source": [
    "gbc = GradientBoostingClassifier(n_estimators=100, learning_rate=1.0, max_depth=1, random_state=0)"
   ]
  },
  {
   "cell_type": "code",
   "execution_count": null,
   "id": "9ed84bd9",
   "metadata": {},
   "outputs": [],
   "source": [
    "gbc.fit(X_train, y_train)"
   ]
  },
  {
   "cell_type": "code",
   "execution_count": null,
   "id": "2cd4d1d1",
   "metadata": {},
   "outputs": [],
   "source": [
    "y_pred_gbc = gbc.predict(X_test)"
   ]
  },
  {
   "cell_type": "code",
   "execution_count": null,
   "id": "3a94e25c",
   "metadata": {},
   "outputs": [],
   "source": [
    "gbc.score(X_test, y_test)"
   ]
  },
  {
   "cell_type": "code",
   "execution_count": null,
   "id": "168bc211",
   "metadata": {},
   "outputs": [],
   "source": [
    "from sklearn.metrics import accuracy_score\n",
    "\n",
    "print(f'Accuracy Score is {accuracy_score(y_test,y_pred_gbc)}')"
   ]
  },
  {
   "cell_type": "markdown",
   "id": "03550597",
   "metadata": {},
   "source": [
    "### 2. XGBoost Classifier"
   ]
  },
  {
   "cell_type": "code",
   "execution_count": null,
   "id": "89fa17c9",
   "metadata": {},
   "outputs": [],
   "source": [
    "from xgboost import XGBClassifier\n",
    "from sklearn.model_selection import cross_val_score, KFold\n",
    "from sklearn.metrics import confusion_matrix"
   ]
  },
  {
   "cell_type": "code",
   "execution_count": null,
   "id": "fcc6a904",
   "metadata": {},
   "outputs": [],
   "source": [
    "xgbc = XGBClassifier()"
   ]
  },
  {
   "cell_type": "code",
   "execution_count": null,
   "id": "b418c554",
   "metadata": {},
   "outputs": [],
   "source": [
    "xgbc.fit(X_train, y_train)"
   ]
  },
  {
   "cell_type": "code",
   "execution_count": null,
   "id": "30a839b6",
   "metadata": {},
   "outputs": [],
   "source": [
    "# Training accuracy with cross validation\n",
    "\n",
    "scores = cross_val_score(xgbc, X_train, y_train, cv=5)\n",
    "print(\"Mean cross-validation score: %.2f\" % scores.mean())"
   ]
  },
  {
   "cell_type": "code",
   "execution_count": null,
   "id": "cf1d4157",
   "metadata": {},
   "outputs": [],
   "source": [
    "# Training accuracy with k-fold \n",
    "\n",
    "kfold = KFold(n_splits=10, shuffle=True)\n",
    "kf_cv_scores = cross_val_score(xgbc, X_train, y_train, cv=kfold )\n",
    "print(\"K-fold CV average score: %.2f\" % kf_cv_scores.mean())"
   ]
  },
  {
   "cell_type": "code",
   "execution_count": null,
   "id": "1de395e1",
   "metadata": {},
   "outputs": [],
   "source": [
    "# Prediction\n",
    "\n",
    "y_pred = xgbc.predict(X_test)"
   ]
  },
  {
   "cell_type": "code",
   "execution_count": null,
   "id": "6e69ab64",
   "metadata": {},
   "outputs": [],
   "source": [
    "cm = confusion_matrix(y_test,y_pred)"
   ]
  },
  {
   "cell_type": "code",
   "execution_count": null,
   "id": "2fc34f51",
   "metadata": {},
   "outputs": [],
   "source": [
    "print(cm)"
   ]
  },
  {
   "cell_type": "code",
   "execution_count": null,
   "id": "8e0298d0",
   "metadata": {},
   "outputs": [],
   "source": [
    "print(f'Accuracy Score is {accuracy_score(y_test,y_pred)}')"
   ]
  },
  {
   "cell_type": "markdown",
   "id": "91564a8c",
   "metadata": {},
   "source": [
    "### 3. Decision Tree Classifier"
   ]
  },
  {
   "cell_type": "code",
   "execution_count": null,
   "id": "fbdb4fe6",
   "metadata": {},
   "outputs": [],
   "source": [
    "from sklearn.tree import DecisionTreeClassifier"
   ]
  },
  {
   "cell_type": "code",
   "execution_count": null,
   "id": "0034919f",
   "metadata": {},
   "outputs": [],
   "source": [
    "dtc = DecisionTreeClassifier()\n",
    "dtc = dtc.fit(X, y)\n",
    "y_pred_dtc = dtc.predict(X_test)"
   ]
  },
  {
   "cell_type": "code",
   "execution_count": null,
   "id": "3c4eb0c7",
   "metadata": {},
   "outputs": [],
   "source": [
    "dtc.score(X_test, y_test)"
   ]
  },
  {
   "cell_type": "code",
   "execution_count": null,
   "id": "b6dc3123",
   "metadata": {},
   "outputs": [],
   "source": [
    "print(f'Accuracy Score is {accuracy_score(y_test,y_pred_dtc)}')"
   ]
  },
  {
   "cell_type": "markdown",
   "id": "7fc03727",
   "metadata": {},
   "source": [
    "### Checking with a single record"
   ]
  },
  {
   "cell_type": "code",
   "execution_count": null,
   "id": "e01350d7",
   "metadata": {},
   "outputs": [],
   "source": [
    "check1 = X_train.iloc[2]\n",
    "check = np.array(check1).reshape(1,-1)"
   ]
  },
  {
   "cell_type": "code",
   "execution_count": null,
   "id": "11179921",
   "metadata": {},
   "outputs": [],
   "source": [
    "xgbc.predict(check)"
   ]
  },
  {
   "cell_type": "markdown",
   "id": "b1bf8a99",
   "metadata": {},
   "source": [
    "## Pickle file"
   ]
  },
  {
   "cell_type": "code",
   "execution_count": null,
   "id": "81d04bf2",
   "metadata": {},
   "outputs": [],
   "source": [
    "import pickle"
   ]
  },
  {
   "cell_type": "code",
   "execution_count": null,
   "id": "f19cfaa0",
   "metadata": {},
   "outputs": [],
   "source": [
    "pickle.dump(xgbc, open('xgboost.pkl', 'wb'))"
   ]
  },
  {
   "cell_type": "code",
   "execution_count": null,
   "id": "bba12507",
   "metadata": {},
   "outputs": [],
   "source": [
    "pickle_xg_model = pickle.load(open('xgboost.pkl', 'rb'))"
   ]
  },
  {
   "cell_type": "code",
   "execution_count": null,
   "id": "91ca9a73",
   "metadata": {},
   "outputs": [],
   "source": [
    "pickle_xg_model"
   ]
  },
  {
   "cell_type": "code",
   "execution_count": null,
   "id": "7cbc1a16",
   "metadata": {},
   "outputs": [],
   "source": [
    "pickle_xg_model.predict(check)"
   ]
  },
  {
   "cell_type": "markdown",
   "id": "370a1c3a",
   "metadata": {},
   "source": [
    "## Json-record"
   ]
  },
  {
   "cell_type": "markdown",
   "id": "32975618",
   "metadata": {},
   "source": [
    "#### -- Convert a single record to json and use the record to predict in the Postman API using Flask"
   ]
  },
  {
   "cell_type": "code",
   "execution_count": null,
   "id": "bbd31719",
   "metadata": {},
   "outputs": [],
   "source": [
    "rec = X_test[0:1].to_json()"
   ]
  },
  {
   "cell_type": "code",
   "execution_count": null,
   "id": "747662b9",
   "metadata": {},
   "outputs": [],
   "source": [
    "import json\n",
    "record = json.loads(rec)"
   ]
  },
  {
   "cell_type": "code",
   "execution_count": null,
   "id": "11e8ed80",
   "metadata": {},
   "outputs": [],
   "source": [
    "value = []\n",
    "key = []\n",
    "\n",
    "# value is retrieved by using double for loop since it is nested\n",
    "for v in record.values():\n",
    "    for vv in v.values():\n",
    "        value.append(vv)\n",
    "\n",
    "# retrieving the key        \n",
    "for k in record.keys():\n",
    "    key.append(k)\n",
    "\n",
    "# zipping together and forming a new json_dictionary\n",
    "dit = {}\n",
    "for k,v in zip(key,value):\n",
    "    dit[k]=v\n",
    "    \n",
    "json.dumps(dit)       # single record from the X_test"
   ]
  },
  {
   "cell_type": "code",
   "execution_count": null,
   "id": "44c5bc88",
   "metadata": {},
   "outputs": [],
   "source": []
  }
 ],
 "metadata": {
  "kernelspec": {
   "display_name": "torch_env",
   "language": "python",
   "name": "torch_env"
  },
  "language_info": {
   "codemirror_mode": {
    "name": "ipython",
    "version": 3
   },
   "file_extension": ".py",
   "mimetype": "text/x-python",
   "name": "python",
   "nbconvert_exporter": "python",
   "pygments_lexer": "ipython3",
   "version": "3.10.9"
  }
 },
 "nbformat": 4,
 "nbformat_minor": 5
}
